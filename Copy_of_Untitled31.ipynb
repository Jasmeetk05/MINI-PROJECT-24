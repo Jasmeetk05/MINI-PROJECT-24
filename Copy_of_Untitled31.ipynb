{
  "nbformat": 4,
  "nbformat_minor": 0,
  "metadata": {
    "colab": {
      "provenance": [],
      "authorship_tag": "ABX9TyNwzonKty14v+XP7eLIyTUw",
      "include_colab_link": true
    },
    "kernelspec": {
      "name": "python3",
      "display_name": "Python 3"
    },
    "language_info": {
      "name": "python"
    }
  },
  "cells": [
    {
      "cell_type": "markdown",
      "metadata": {
        "id": "view-in-github",
        "colab_type": "text"
      },
      "source": [
        "<a href=\"https://colab.research.google.com/github/Jasmeetk05/MINI-PROJECT-24/blob/main/Copy_of_Untitled31.ipynb\" target=\"_parent\"><img src=\"https://colab.research.google.com/assets/colab-badge.svg\" alt=\"Open In Colab\"/></a>"
      ]
    },
    {
      "cell_type": "code",
      "source": [
        "import cv2\n",
        "import os\n",
        "\n",
        "input_dir = 'input_images'\n",
        "output_dir = 'resized_images'\n",
        "\n",
        "# Create input folder if it doesn't exist\n",
        "if not os.path.exists(input_dir):\n",
        "    os.makedirs(input_dir)\n",
        "    print(f\"📂 Created missing input folder: '{input_dir}'\")\n",
        "    print(\"⚠️ Please add images to this folder and rerun the script.\")\n",
        "    exit()\n",
        "\n",
        "# Create output folder if not exists\n",
        "os.makedirs(output_dir, exist_ok=True)\n",
        "\n",
        "# Get list of image files\n",
        "image_files = [f for f in os.listdir(input_dir) if f.lower().endswith(('.png', '.jpg', '.jpeg'))]\n",
        "image_files = image_files[:100]\n",
        "\n",
        "if not image_files:\n",
        "    print(\"⚠️ No image files found in input folder. Please add .jpg/.png files and rerun.\")\n",
        "    exit()\n",
        "\n",
        "# Resize and save\n",
        "for i, filename in enumerate(image_files, 1):\n",
        "    img_path = os.path.join(input_dir, filename)\n",
        "    img = cv2.imread(img_path)\n",
        "\n",
        "    if img is None:\n",
        "        print(f\"[{i}] Skipping unreadable file: {filename}\")\n",
        "        continue\n",
        "\n",
        "    width = int(img.shape[1] * 0.5)\n",
        "    height = int(img.shape[0] * 0.5)\n",
        "    resized_img = cv2.resize(img, (width, height), interpolation=cv2.INTER_AREA)\n",
        "\n",
        "    output_path = os.path.join(output_dir, filename)\n",
        "    cv2.imwrite(output_path, resized_img)\n",
        "\n",
        "    print(f\"[{i}] Resized and saved: {filename}\")\n",
        "\n",
        "print(\"✅ All images processed successfully.\")\n"
      ],
      "metadata": {
        "colab": {
          "base_uri": "https://localhost:8080/"
        },
        "id": "uxbxk3LwSyZI",
        "outputId": "2397c0cb-8049-4aee-d625-917348a64006"
      },
      "execution_count": null,
      "outputs": [
        {
          "output_type": "stream",
          "name": "stdout",
          "text": [
            "📂 Created missing input folder: 'input_images'\n",
            "⚠️ Please add images to this folder and rerun the script.\n",
            "⚠️ No image files found in input folder. Please add .jpg/.png files and rerun.\n",
            "✅ All images processed successfully.\n"
          ]
        }
      ]
    },
    {
      "cell_type": "code",
      "source": [
        "import cv2\n",
        "import os\n",
        "\n",
        "# Set input and output directories\n",
        "input_dir = 'input_images'\n",
        "output_dir = 'resized_images'\n",
        "\n",
        "# Check if input directory exists\n",
        "if not os.path.exists(input_dir):\n",
        "    raise FileNotFoundError(f\"Input folder '{input_dir}' does not exist. Please create it and add images.\")\n",
        "\n",
        "# Create output directory if it doesn't exist\n",
        "os.makedirs(output_dir, exist_ok=True)\n",
        "\n",
        "# List all image files\n",
        "image_files = [f for f in os.listdir(input_dir) if f.lower().endswith(('.png', '.jpg', '.jpeg'))]\n",
        "image_files = image_files[:100]  # Limit to first 100 images\n",
        "\n",
        "# Resize each image\n",
        "for i, filename in enumerate(image_files, 1):\n",
        "    img_path = os.path.join(input_dir, filename)\n",
        "    img = cv2.imread(img_path)\n",
        "\n",
        "    if img is None:\n",
        "        print(f\"[{i}] Skipping unreadable file: {filename}\")\n",
        "        continue\n",
        "\n",
        "    # Resize to 50% of original size\n",
        "    width = int(img.shape[1] * 0.5)\n",
        "    height = int(img.shape[0] * 0.5)\n",
        "    resized_img = cv2.resize(img, (width, height), interpolation=cv2.INTER_AREA)\n",
        "\n",
        "    # Save resized image\n",
        "    output_path = os.path.join(output_dir, filename)\n",
        "    cv2.imwrite(output_path, resized_img)\n",
        "\n",
        "    print(f\"[{i}] Resized and saved: {filename}\")\n",
        "\n",
        "print(\"✅ All images resized and saved.\")\n"
      ],
      "metadata": {
        "colab": {
          "base_uri": "https://localhost:8080/"
        },
        "id": "M07MDDhbTHsi",
        "outputId": "4a376ee4-7a7e-42e6-de7b-ed667c3d8fd9"
      },
      "execution_count": null,
      "outputs": [
        {
          "output_type": "stream",
          "name": "stdout",
          "text": [
            "[1] Resized and saved: 000011.jpg\n",
            "[2] Resized and saved: 000057.jpg\n",
            "[3] Resized and saved: 000048.png\n",
            "[4] Resized and saved: 000046.jpg\n",
            "[5] Resized and saved: 000022.jpg\n",
            "[6] Resized and saved: 000039.jpg\n",
            "[7] Resized and saved: 000023.jpg\n",
            "[8] Resized and saved: 000044.jpg\n",
            "[9] Resized and saved: 000019.jpg\n",
            "[10] Resized and saved: 000028.jpg\n",
            "[11] Resized and saved: 000009.jpg\n",
            "[12] Resized and saved: 000049.jpg\n",
            "[13] Resized and saved: 000021.jpg\n",
            "[14] Resized and saved: 000026.jpg\n",
            "[15] Resized and saved: 000031.jpg\n",
            "[16] Resized and saved: 000015.jpg\n",
            "[17] Resized and saved: 000007.jpg\n",
            "[18] Resized and saved: 000054.jpg\n",
            "[19] Resized and saved: 000024.jpg\n",
            "[20] Resized and saved: 000030.jpg\n",
            "[21] Resized and saved: 000037.jpg\n",
            "[22] Resized and saved: 000035.jpg\n",
            "[23] Resized and saved: 000045.jpg\n",
            "[24] Resized and saved: 000043.jpg\n",
            "[25] Resized and saved: 000006.jpg\n",
            "[26] Resized and saved: 000056.jpg\n",
            "[27] Resized and saved: 000001.jpg\n",
            "[28] Resized and saved: 000040.jpg\n",
            "[29] Resized and saved: 000029.jpg\n",
            "[30] Resized and saved: 000053.jpg\n",
            "[31] Resized and saved: 000060.jpg\n",
            "[32] Resized and saved: 000055.jpg\n",
            "[33] Resized and saved: 000036.jpg\n",
            "[34] Resized and saved: test2.png\n",
            "[35] Resized and saved: 000013.png\n",
            "[36] Resized and saved: 000027.jpg\n",
            "[37] Resized and saved: 000017.jpg\n",
            "[38] Resized and saved: 000018.jpg\n",
            "[39] Resized and saved: 000020.jpg\n",
            "[40] Resized and saved: 000004.jpg\n",
            "[41] Resized and saved: 000059.jpg\n",
            "[42] Resized and saved: 000050.jpg\n",
            "[43] Resized and saved: 000008.jpg\n",
            "[44] Resized and saved: 000025.png\n",
            "[45] Resized and saved: 000047.jpg\n",
            "[46] Resized and saved: 000014.jpg\n",
            "[47] Resized and saved: 000033.jpg\n",
            "[48] Resized and saved: 000051.jpg\n",
            "[49] Resized and saved: 000003.jpg\n",
            "[50] Resized and saved: 000038.jpg\n",
            "[51] Resized and saved: 000029 (1).jpg\n",
            "[52] Resized and saved: 000010.jpg\n",
            "[53] Resized and saved: 000052.jpg\n",
            "[54] Resized and saved: output.png\n",
            "[55] Resized and saved: 000016.jpg\n",
            "[56] Resized and saved: 000034.jpg\n",
            "[57] Resized and saved: 000032.jpg\n",
            "[58] Resized and saved: 000041.jpg\n",
            "[59] Resized and saved: 000042.jpg\n",
            "[60] Resized and saved: 000012.jpg\n",
            "✅ All images resized and saved.\n"
          ]
        }
      ]
    }
  ]
}